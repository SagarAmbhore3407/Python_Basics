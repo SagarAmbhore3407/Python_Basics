{
 "cells": [
  {
   "cell_type": "code",
   "execution_count": 4,
   "id": "638247b7-3ae5-47aa-92e0-cd50e42706a0",
   "metadata": {},
   "outputs": [
    {
     "name": "stdout",
     "output_type": "stream",
     "text": [
      "Before Swapping\n",
      "x = 34\n",
      "y = 56\n",
      "After Swapping\n",
      "x = 56\n",
      "y = 34\n"
     ]
    }
   ],
   "source": [
    "#Topic : Python Basic Variable\n",
    "#1. Declare two variables, `x` and `y`, and assign them integer values. \n",
    "#   Swap the values of these variables without using any temporary variable.\n",
    "\n",
    "x = 34\n",
    "y = 56\n",
    "print(\"Before Swapping\")\n",
    "print(f\"x = {x}\\ny = {y}\")\n",
    "print(\"After Swapping\")\n",
    "x,y = y,x\n",
    "print(f\"x = {x}\\ny = {y}\")\n"
   ]
  },
  {
   "cell_type": "code",
   "execution_count": 7,
   "id": "e4041f14-3007-4c49-9c5a-93c4b3785b1b",
   "metadata": {},
   "outputs": [
    {
     "name": "stdin",
     "output_type": "stream",
     "text": [
      "Enter the length of Rectangle. : 12.5\n",
      "Enter the width of Restangle. : 45.62\n"
     ]
    },
    {
     "name": "stdout",
     "output_type": "stream",
     "text": [
      "Area of Rectangle of given length 12.5 and width 45.62 is : 570.25.\n"
     ]
    }
   ],
   "source": [
    "#Topic : Python Basic Variable.\n",
    "#2. Create a program that calculates the area of a rectangle. Take the length and\n",
    "#   width as inputs from the user and store them in variables. Calculate and display the area.\n",
    "\n",
    "length = float(input(\"Enter the length of Rectangle. :\"))\n",
    "width = float(input(\"Enter the width of Restangle. :\"))\n",
    "area = length*width\n",
    "print(f\"Area of Rectangle of given length {length} and width {width} is : {area}.\")\n"
   ]
  },
  {
   "cell_type": "code",
   "execution_count": 16,
   "id": "402cef4e-1d55-4117-8b17-dd63881700cf",
   "metadata": {},
   "outputs": [
    {
     "name": "stdout",
     "output_type": "stream",
     "text": [
      "Temperature Converter from °C to °F\n"
     ]
    },
    {
     "name": "stdin",
     "output_type": "stream",
     "text": [
      "Enter the temperature in Celsius : 78.5\n"
     ]
    },
    {
     "name": "stdout",
     "output_type": "stream",
     "text": [
      "In Fahrenheit,The Converted temperature of 78.5°C is : 173.3°F\n"
     ]
    }
   ],
   "source": [
    "#Topic : Python Basic Variable.\n",
    "#3. Write a Python program that converts temperatures from Celsius to Fahrenheit. Take the\n",
    "#   temperature in Celsius as input, store it in a variable, convert it to Fahrenheit, and display the result.\n",
    "#°F = °C × (9/5) + 32.\n",
    "\n",
    "print(\"Temperature Converter from °C to °F\")\n",
    "celsius = float(input(\"Enter the temperature in Celsius :\"))\n",
    "fahrenheit = celsius*(9/5)+32\n",
    "print(\"In Fahrenheit,The Converted temperature of {}°C is : {}°F\".format(celsius,fahrenheit))"
   ]
  },
  {
   "cell_type": "code",
   "execution_count": 18,
   "id": "e77a9d30-b301-4ea8-a741-e8798454f243",
   "metadata": {},
   "outputs": [
    {
     "name": "stdin",
     "output_type": "stream",
     "text": [
      "Enter your String :  Sagar aharad ambhore\n"
     ]
    },
    {
     "name": "stdout",
     "output_type": "stream",
     "text": [
      "Length of given string is :  20\n"
     ]
    }
   ],
   "source": [
    "#TOPIC: String Based Questions\n",
    "#1. Write a Python program that takes a string as input and prints the length of the string.\n",
    "\n",
    "string = input(\"Enter your String : \")\n",
    "print(\"Length of given string is : \",len(string))"
   ]
  },
  {
   "cell_type": "code",
   "execution_count": 19,
   "id": "698fcc12-a31b-4d48-880a-43b08de90df7",
   "metadata": {},
   "outputs": [
    {
     "name": "stdin",
     "output_type": "stream",
     "text": [
      "Enter the Sentence :  Hello codehustelers..what are doing.\n"
     ]
    },
    {
     "name": "stdout",
     "output_type": "stream",
     "text": [
      "In given Sentence there are 12 Vowels.\n"
     ]
    }
   ],
   "source": [
    "#TOPIC: String Based Questions\n",
    "#2. Create a program that takes a sentence from the user and counts the number\n",
    "#   of vowels (a, e, i, o, u) in the string.\n",
    "\n",
    "sentence = input(\"Enter the Sentence : \")\n",
    "vowels = ('a','e','i','o','u')\n",
    "vowels_counter = 0\n",
    "\n",
    "for i in sentence:\n",
    "    if i.lower() in vowels:\n",
    "        vowels_counter += 1\n",
    "    \n",
    "print(f\"In given Sentence there are {vowels_counter} Vowels.\")"
   ]
  },
  {
   "cell_type": "code",
   "execution_count": 20,
   "id": "c8802d26-0fd6-459e-9009-f6354bdb5a6e",
   "metadata": {},
   "outputs": [
    {
     "name": "stdin",
     "output_type": "stream",
     "text": [
      "Enter the String :  Sagar ambhore\n"
     ]
    },
    {
     "name": "stdout",
     "output_type": "stream",
     "text": [
      "Reverse of given string : erohbma ragaS\n"
     ]
    }
   ],
   "source": [
    "#TOPIC: String Based Questions\n",
    "#3. Given a string, reverse the order of characters using string slicing and print\n",
    "#   the reversed string.\n",
    "\n",
    "string = input(\"Enter the String : \")\n",
    "print(f\"Reverse of given string : {string[::-1]}\")"
   ]
  },
  {
   "cell_type": "code",
   "execution_count": 22,
   "id": "3f85e0f8-8ebf-4d04-87f4-3cb2287b4852",
   "metadata": {},
   "outputs": [
    {
     "name": "stdin",
     "output_type": "stream",
     "text": [
      "Enter the String to Check whether it is Palindrome or not. :  nitin\n"
     ]
    },
    {
     "name": "stdout",
     "output_type": "stream",
     "text": [
      "Given string 'nitin' is Palindrome.\n"
     ]
    }
   ],
   "source": [
    "#TOPIC: String Based Questions\n",
    "#4. Write a program that takes a string as input and checks if it is a palindrome\n",
    "#   (reads the same forwards and backwards).\n",
    "\n",
    "string = input(\"Enter the String to Check whether it is Palindrome or not. : \")\n",
    "if string[::-1].lower() == string.lower():\n",
    "    print(f\"Given string '{string}' is Palindrome.\")\n",
    "    \n",
    "else:\n",
    "    print(f\"Given string '{string}' is not Palindrome.\")"
   ]
  },
  {
   "cell_type": "code",
   "execution_count": 24,
   "id": "ad0ad170-8318-4f0b-bc14-87b7cafad92a",
   "metadata": {
    "tags": []
   },
   "outputs": [
    {
     "name": "stdin",
     "output_type": "stream",
     "text": [
      "Enter the String sagara    ambh  knkndk\n"
     ]
    },
    {
     "name": "stdout",
     "output_type": "stream",
     "text": [
      "sagaraambhknkndk\n"
     ]
    }
   ],
   "source": [
    "#TOPIC: String Based Questions\n",
    "#5. Create a program that takes a string as input and removes all the spaces from\n",
    "#   it. Print the modified string without spaces.\n",
    "\n",
    "string = input(\"Enter the String: \")\n",
    "print(string.replace(\" \",\"\"))"
   ]
  }
 ],
 "metadata": {
  "kernelspec": {
   "display_name": "Python 3 (ipykernel)",
   "language": "python",
   "name": "python3"
  },
  "language_info": {
   "codemirror_mode": {
    "name": "ipython",
    "version": 3
   },
   "file_extension": ".py",
   "mimetype": "text/x-python",
   "name": "python",
   "nbconvert_exporter": "python",
   "pygments_lexer": "ipython3",
   "version": "3.10.8"
  }
 },
 "nbformat": 4,
 "nbformat_minor": 5
}
